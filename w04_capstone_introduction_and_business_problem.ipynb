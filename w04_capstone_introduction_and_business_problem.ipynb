{
 "cells": [
  {
   "cell_type": "markdown",
   "metadata": {
    "collapsed": true
   },
   "source": [
    "# Capstone Project - The Battle of the Neighborhoods (Week 1)\n",
    "\n",
    "by Juliano Magalhães da Silva\n"
   ]
  },
  {
   "cell_type": "markdown",
   "metadata": {},
   "source": [
    "# Introduction: Business Problem\n",
    "\n",
    "A Group of Coffee Shop will start operating in Brazil market, and they choose start for the two biggest cities: **São Paulo and Rio de Janeiro**.\n",
    "\n",
    "Coffee shops are very common and already there are various group operating in Brazil. \n",
    "\n",
    "I will identify this places where there are **more coffee shops**, identify the **characteristics off these neighborhoods**, and select other neighborhoods with the same characteristics. \n",
    "\n",
    "With these information, we can provide data about the top competition groups, **where they are located** and **characteristics of the neighbourhood** that this competition works. \n",
    "\n",
    "\n",
    "Working with data science tools and skills will be identify a list places that the Group of Coffe Shop can use in business plan, and the competition information base this information. \n"
   ]
  }
 ],
 "metadata": {
  "kernelspec": {
   "display_name": "Python 3.5",
   "language": "python",
   "name": "python3"
  },
  "language_info": {
   "codemirror_mode": {
    "name": "ipython",
    "version": 3
   },
   "file_extension": ".py",
   "mimetype": "text/x-python",
   "name": "python",
   "nbconvert_exporter": "python",
   "pygments_lexer": "ipython3",
   "version": "3.5.5"
  }
 },
 "nbformat": 4,
 "nbformat_minor": 1
}
