{
    "nbformat_minor": 1, 
    "cells": [
        {
            "source": "# Capstone Project - The Battle of the Neighborhoods\n\nby Juliano Magalh\u00e3es da Silva\n", 
            "cell_type": "markdown", 
            "metadata": {
                "collapsed": true
            }
        }, 
        {
            "source": "# Introduction: Business Problem\n\nA Coffee Shop Group will open stores in Brazil and they choose start for the two biggest cities: **S\u00e3o Paulo and Rio de Janeiro**, they request the list of neighborhoods that are better to open new stores. \n\nThe characteristic from the Group: the principal product are coffee and drinks based in coffee. In addition, teas, milk and chocolate. All products with high quality. \nThey sell snacks and fast food during lunch and dinner. Every store are have comfortable tables a comfortable ambience and decoration.\n\nThis group in other countries are compared with Starbucks, Tim Hortons, McDonald\u2019s Coffee and other Second Cup.\nCoffee shops are very common and already there are various group operating in Brazil. To archive the answer I will analyze two approaches, crossing the competition, their location and characteristics, with the neighborhood, and get: \n\n\u2022\t**Strategic places**: I will find the principal places the competition exist and have more stores; this place can be strategic places to open a store, with a high flow of people that consume coffee. \n\nFor example, shopping centers, cities center or high dense business areas. \n\n\u2022\t**Opportunities places**: Neighborhoods with the same characteristics where the competition exists, and have less coffee shop. \n\nThe first approach is to identify places that already have stores, and can support this kind of business, that demand a specific public, special in Brasil where coffee shop generally are more simple. \n\nThe second line is complementary, because the neighborhood that does not have a Coffee Shop with the characteristics form this business cannot have the flow of people that are the public to this kind of store.  But anyway I will map this neighborhood and maybe can find some place to explore, and verify if it have some characteristics that support this business. \n", 
            "cell_type": "markdown", 
            "metadata": {}
        }
    ], 
    "metadata": {
        "kernelspec": {
            "display_name": "Python 3.5", 
            "name": "python3", 
            "language": "python"
        }, 
        "language_info": {
            "mimetype": "text/x-python", 
            "nbconvert_exporter": "python", 
            "version": "3.5.5", 
            "name": "python", 
            "file_extension": ".py", 
            "pygments_lexer": "ipython3", 
            "codemirror_mode": {
                "version": 3, 
                "name": "ipython"
            }
        }
    }, 
    "nbformat": 4
}