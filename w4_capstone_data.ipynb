{
    "nbformat_minor": 1, 
    "cells": [
        {
            "source": "# Capstone Project - The Battle of the Neighborhoods\n\n## Data\nby Juliano Magalh\u00e3es da Silva", 
            "cell_type": "markdown", 
            "metadata": {
                "collapsed": true
            }
        }, 
        {
            "source": "Objective: \n\n___Create a list of neighborhood to open stores for a network of coffee shop that are compatible with client business plan.___\n\nTo archive the objective we will follow these steps:\n* Identify neighborhood from S\u00e3o Paulo and Rio de Janeiro\n* Acquire information of Geolocation for each neighborhood.\n* Enrich neighborhood with Venue information (category) and classify neighborhoods.\n* Filter Venues for the business in the same market that the client. (ex.: Coffee Shop, Tea Shop).\n* Map the competition, they location and some characteristic. \n* Cross the Neighborhood information with Venue Information.\n\nDeliveries:\n\n* List of places to open store.\n\n  ___Opportunities___ \u2013 neighborhoods that have characteristics form where already have Shop, and have low density of Coffee Shops. \n\n  ___Strategic___ - Place with high demand or concentration of Coffee Shop.\n\nTo archive the objective, the information are in the Data Sources: \n\n* Identify neighborhood from S\u00e3o Paulo and Rio de Janeiro:\n\n     https://www.estadoecapitaisdobrasil.com\n     \n     \n* Enrichment of the information with Geolocation:\n\n     API - Nominatim\n     \n     \n* Neighborhood and Venues\n\n   API - Foursqueare\n", 
            "cell_type": "markdown", 
            "metadata": {}
        }, 
        {
            "execution_count": null, 
            "cell_type": "code", 
            "metadata": {}, 
            "outputs": [], 
            "source": ""
        }
    ], 
    "metadata": {
        "kernelspec": {
            "display_name": "Python 3.5", 
            "name": "python3", 
            "language": "python"
        }, 
        "language_info": {
            "mimetype": "text/x-python", 
            "nbconvert_exporter": "python", 
            "version": "3.5.5", 
            "name": "python", 
            "file_extension": ".py", 
            "pygments_lexer": "ipython3", 
            "codemirror_mode": {
                "version": 3, 
                "name": "ipython"
            }
        }
    }, 
    "nbformat": 4
}